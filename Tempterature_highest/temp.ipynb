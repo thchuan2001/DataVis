{
 "cells": [
  {
   "cell_type": "code",
   "execution_count": 1,
   "metadata": {},
   "outputs": [
    {
     "name": "stdout",
     "output_type": "stream",
     "text": [
      "8279\n"
     ]
    },
    {
     "name": "stderr",
     "output_type": "stream",
     "text": [
      "100%|██████████| 8279/8279 [00:08<00:00, 1015.53it/s]\n"
     ]
    },
    {
     "name": "stdout",
     "output_type": "stream",
     "text": [
      "32\n",
      "9008\n"
     ]
    },
    {
     "name": "stderr",
     "output_type": "stream",
     "text": [
      "100%|██████████| 9008/9008 [00:08<00:00, 1006.01it/s]\n"
     ]
    },
    {
     "name": "stdout",
     "output_type": "stream",
     "text": [
      "41\n",
      "8990\n"
     ]
    },
    {
     "name": "stderr",
     "output_type": "stream",
     "text": [
      "100%|██████████| 8990/8990 [00:09<00:00, 983.57it/s] \n"
     ]
    },
    {
     "name": "stdout",
     "output_type": "stream",
     "text": [
      "49\n",
      "9081\n"
     ]
    },
    {
     "name": "stderr",
     "output_type": "stream",
     "text": [
      "100%|██████████| 9081/9081 [00:09<00:00, 953.71it/s]\n"
     ]
    },
    {
     "name": "stdout",
     "output_type": "stream",
     "text": [
      "50\n",
      "9574\n"
     ]
    },
    {
     "name": "stderr",
     "output_type": "stream",
     "text": [
      "100%|██████████| 9574/9574 [00:09<00:00, 978.46it/s] \n"
     ]
    },
    {
     "name": "stdout",
     "output_type": "stream",
     "text": [
      "33\n",
      "10130\n"
     ]
    },
    {
     "name": "stderr",
     "output_type": "stream",
     "text": [
      "100%|██████████| 10130/10130 [00:10<00:00, 978.12it/s] \n"
     ]
    },
    {
     "name": "stdout",
     "output_type": "stream",
     "text": [
      "56\n",
      "9479\n"
     ]
    },
    {
     "name": "stderr",
     "output_type": "stream",
     "text": [
      "100%|██████████| 9479/9479 [00:10<00:00, 926.69it/s]\n"
     ]
    },
    {
     "name": "stdout",
     "output_type": "stream",
     "text": [
      "53\n",
      "9782\n"
     ]
    },
    {
     "name": "stderr",
     "output_type": "stream",
     "text": [
      "100%|██████████| 9782/9782 [00:10<00:00, 930.36it/s]\n"
     ]
    },
    {
     "name": "stdout",
     "output_type": "stream",
     "text": [
      "45\n",
      "10363\n"
     ]
    },
    {
     "name": "stderr",
     "output_type": "stream",
     "text": [
      "100%|██████████| 10363/10363 [00:11<00:00, 914.56it/s]\n"
     ]
    },
    {
     "name": "stdout",
     "output_type": "stream",
     "text": [
      "57\n",
      "10723\n"
     ]
    },
    {
     "name": "stderr",
     "output_type": "stream",
     "text": [
      "100%|██████████| 10723/10723 [00:12<00:00, 870.71it/s]\n"
     ]
    },
    {
     "name": "stdout",
     "output_type": "stream",
     "text": [
      "59\n",
      "10902\n"
     ]
    },
    {
     "name": "stderr",
     "output_type": "stream",
     "text": [
      "100%|██████████| 10902/10902 [00:13<00:00, 805.64it/s]\n"
     ]
    },
    {
     "name": "stdout",
     "output_type": "stream",
     "text": [
      "75\n",
      "11088\n"
     ]
    },
    {
     "name": "stderr",
     "output_type": "stream",
     "text": [
      "100%|██████████| 11088/11088 [00:16<00:00, 684.62it/s]\n"
     ]
    },
    {
     "name": "stdout",
     "output_type": "stream",
     "text": [
      "65\n",
      "11875\n"
     ]
    },
    {
     "name": "stderr",
     "output_type": "stream",
     "text": [
      "100%|██████████| 11875/11875 [00:10<00:00, 1098.03it/s]\n"
     ]
    },
    {
     "name": "stdout",
     "output_type": "stream",
     "text": [
      "97\n",
      "11870\n"
     ]
    },
    {
     "name": "stderr",
     "output_type": "stream",
     "text": [
      "100%|██████████| 11870/11870 [00:10<00:00, 1105.47it/s]\n"
     ]
    },
    {
     "name": "stdout",
     "output_type": "stream",
     "text": [
      "68\n",
      "11958\n"
     ]
    },
    {
     "name": "stderr",
     "output_type": "stream",
     "text": [
      "100%|██████████| 11958/11958 [00:11<00:00, 1074.40it/s]\n"
     ]
    },
    {
     "name": "stdout",
     "output_type": "stream",
     "text": [
      "55\n",
      "12100\n"
     ]
    },
    {
     "name": "stderr",
     "output_type": "stream",
     "text": [
      "100%|██████████| 12100/12100 [00:11<00:00, 1066.56it/s]\n"
     ]
    },
    {
     "name": "stdout",
     "output_type": "stream",
     "text": [
      "47\n",
      "12111\n"
     ]
    },
    {
     "name": "stderr",
     "output_type": "stream",
     "text": [
      "100%|██████████| 12111/12111 [00:11<00:00, 1046.03it/s]\n"
     ]
    },
    {
     "name": "stdout",
     "output_type": "stream",
     "text": [
      "87\n",
      "12337\n"
     ]
    },
    {
     "name": "stderr",
     "output_type": "stream",
     "text": [
      "100%|██████████| 12337/12337 [00:14<00:00, 840.29it/s]\n"
     ]
    },
    {
     "name": "stdout",
     "output_type": "stream",
     "text": [
      "99\n",
      "12426\n"
     ]
    },
    {
     "name": "stderr",
     "output_type": "stream",
     "text": [
      "100%|██████████| 12426/12426 [00:11<00:00, 1052.35it/s]\n"
     ]
    },
    {
     "name": "stdout",
     "output_type": "stream",
     "text": [
      "80\n",
      "12387\n"
     ]
    },
    {
     "name": "stderr",
     "output_type": "stream",
     "text": [
      "100%|██████████| 12387/12387 [00:11<00:00, 1063.48it/s]\n"
     ]
    },
    {
     "name": "stdout",
     "output_type": "stream",
     "text": [
      "81\n",
      "12299\n"
     ]
    },
    {
     "name": "stderr",
     "output_type": "stream",
     "text": [
      "100%|██████████| 12299/12299 [00:11<00:00, 1075.24it/s]\n"
     ]
    },
    {
     "name": "stdout",
     "output_type": "stream",
     "text": [
      "88\n",
      "12275\n"
     ]
    },
    {
     "name": "stderr",
     "output_type": "stream",
     "text": [
      "100%|██████████| 12275/12275 [00:11<00:00, 1110.31it/s]\n"
     ]
    },
    {
     "name": "stdout",
     "output_type": "stream",
     "text": [
      "14\n",
      "12319\n"
     ]
    },
    {
     "name": "stderr",
     "output_type": "stream",
     "text": [
      "100%|██████████| 12319/12319 [00:12<00:00, 986.13it/s] \n"
     ]
    },
    {
     "name": "stdout",
     "output_type": "stream",
     "text": [
      "72\n",
      "11180\n"
     ]
    },
    {
     "name": "stderr",
     "output_type": "stream",
     "text": [
      "100%|██████████| 11180/11180 [00:18<00:00, 608.10it/s]"
     ]
    },
    {
     "name": "stdout",
     "output_type": "stream",
     "text": [
      "81\n"
     ]
    },
    {
     "name": "stderr",
     "output_type": "stream",
     "text": [
      "\n"
     ]
    }
   ],
   "source": [
    "import glob\n",
    "import pandas as pd\n",
    "from tqdm import tqdm\n",
    "import numpy as np\n",
    "import random\n",
    "def parse_csv(year,site):\n",
    "    try:\n",
    "        data=open(site).readlines()\n",
    "        data=data[1:]\n",
    "        line=data[0][1:-1].strip().split(\"\\\",\\\"\")\n",
    "        station=line[0]\n",
    "        latitute=float(line[2])\n",
    "        longitude=float(line[3])\n",
    "        elevation=float(line[4])\n",
    "\n",
    "        ret=[]\n",
    "        month_count=[0]*13\n",
    "        for line in data:\n",
    "            line=line[1:-1].strip().split(\"\\\",\\\"\")\n",
    "            ret.append(\n",
    "            {\n",
    "                'month':int(line[1].split(\"-\")[1]),\n",
    "                'year':int(line[1].split(\"-\")[0]),\n",
    "                'temperature':float(line[6])\n",
    "            })\n",
    "        \n",
    "        for item in ret:\n",
    "            month_count[item['month']]+=1\n",
    "        \n",
    "        month_count=month_count[1:]\n",
    "        if max(month_count)-min(month_count)<5:\n",
    "            all_temp=[]\n",
    "            for item in ret:\n",
    "                all_temp.append(item['temperature'])\n",
    "            all_temp=np.array(all_temp)\n",
    "            temp_mean=np.max(all_temp)\n",
    "            temp_max=(temp_mean-32)*5/9\n",
    "            if temp_max<40:\n",
    "                return None\n",
    "            return {\n",
    "                'station':station,\n",
    "                'latitute':latitute,\n",
    "                'longitude':longitude,\n",
    "                'elevation':elevation,\n",
    "                \"T_max\":temp_max,\n",
    "            }\n",
    "        else:\n",
    "            return None\n",
    "    except KeyboardInterrupt:\n",
    "        raise KeyboardInterrupt\n",
    "    except:\n",
    "        return None\n",
    "\n",
    "data_path =\"../../Temperature\"\n",
    "years=[str(x) for x in range (2000,2024)]\n",
    "\n",
    "output_df=pd.DataFrame()\n",
    "for year in years:\n",
    "    res=[]\n",
    "    sites=glob.glob(data_path+\"/\"+year+\"/*.csv\")\n",
    "    # shuffle\n",
    "    random.shuffle(sites)\n",
    "    print(len(sites))\n",
    "    # read file\n",
    "    for site in tqdm(sites):\n",
    "        data_list=parse_csv(year,site)\n",
    "        if data_list is None:\n",
    "            continue\n",
    "        res.append(data_list)\n",
    "        # if len(res)>=5000:\n",
    "        #     break\n",
    "    print(len(res))\n",
    "\n",
    "    new_df=pd.DataFrame(res)\n",
    "    \n",
    "\n",
    "    new_df.to_csv(\"./data/\"+year+\".csv\",index=False)\n"
   ]
  },
  {
   "cell_type": "code",
   "execution_count": 5,
   "metadata": {},
   "outputs": [
    {
     "data": {
      "text/html": [
       "<div>\n",
       "<style scoped>\n",
       "    .dataframe tbody tr th:only-of-type {\n",
       "        vertical-align: middle;\n",
       "    }\n",
       "\n",
       "    .dataframe tbody tr th {\n",
       "        vertical-align: top;\n",
       "    }\n",
       "\n",
       "    .dataframe thead th {\n",
       "        text-align: right;\n",
       "    }\n",
       "</style>\n",
       "<table border=\"1\" class=\"dataframe\">\n",
       "  <thead>\n",
       "    <tr style=\"text-align: right;\">\n",
       "      <th></th>\n",
       "      <th>station</th>\n",
       "      <th>latitute</th>\n",
       "      <th>longitude</th>\n",
       "      <th>elevation</th>\n",
       "      <th>2021</th>\n",
       "      <th>2020</th>\n",
       "    </tr>\n",
       "  </thead>\n",
       "  <tbody>\n",
       "    <tr>\n",
       "      <th>0</th>\n",
       "      <td>72657594960</td>\n",
       "      <td>45.06222</td>\n",
       "      <td>-93.35107</td>\n",
       "      <td>263.4</td>\n",
       "      <td>9.292998</td>\n",
       "      <td>NaN</td>\n",
       "    </tr>\n",
       "    <tr>\n",
       "      <th>1</th>\n",
       "      <td>72408013739</td>\n",
       "      <td>39.87326</td>\n",
       "      <td>-75.22681</td>\n",
       "      <td>2.1</td>\n",
       "      <td>14.528311</td>\n",
       "      <td>NaN</td>\n",
       "    </tr>\n",
       "    <tr>\n",
       "      <th>2</th>\n",
       "      <td>72365823090</td>\n",
       "      <td>36.74354</td>\n",
       "      <td>-108.22931</td>\n",
       "      <td>1676.2</td>\n",
       "      <td>12.678843</td>\n",
       "      <td>NaN</td>\n",
       "    </tr>\n",
       "    <tr>\n",
       "      <th>3</th>\n",
       "      <td>72210703056</td>\n",
       "      <td>32.67528</td>\n",
       "      <td>-102.65444</td>\n",
       "      <td>1010.4</td>\n",
       "      <td>16.975580</td>\n",
       "      <td>NaN</td>\n",
       "    </tr>\n",
       "    <tr>\n",
       "      <th>4</th>\n",
       "      <td>74486514719</td>\n",
       "      <td>40.85055</td>\n",
       "      <td>-72.61928</td>\n",
       "      <td>13.1</td>\n",
       "      <td>11.480518</td>\n",
       "      <td>NaN</td>\n",
       "    </tr>\n",
       "    <tr>\n",
       "      <th>...</th>\n",
       "      <td>...</td>\n",
       "      <td>...</td>\n",
       "      <td>...</td>\n",
       "      <td>...</td>\n",
       "      <td>...</td>\n",
       "      <td>...</td>\n",
       "    </tr>\n",
       "    <tr>\n",
       "      <th>495</th>\n",
       "      <td>91221041419</td>\n",
       "      <td>14.17170</td>\n",
       "      <td>145.24280</td>\n",
       "      <td>179.2</td>\n",
       "      <td>27.673212</td>\n",
       "      <td>NaN</td>\n",
       "    </tr>\n",
       "    <tr>\n",
       "      <th>496</th>\n",
       "      <td>17085099999</td>\n",
       "      <td>40.65000</td>\n",
       "      <td>35.85000</td>\n",
       "      <td>412.0</td>\n",
       "      <td>NaN</td>\n",
       "      <td>16.64071</td>\n",
       "    </tr>\n",
       "    <tr>\n",
       "      <th>497</th>\n",
       "      <td>72456513920</td>\n",
       "      <td>38.94144</td>\n",
       "      <td>-95.65125</td>\n",
       "      <td>315.1</td>\n",
       "      <td>13.938204</td>\n",
       "      <td>NaN</td>\n",
       "    </tr>\n",
       "    <tr>\n",
       "      <th>498</th>\n",
       "      <td>99999953151</td>\n",
       "      <td>33.43920</td>\n",
       "      <td>-117.19040</td>\n",
       "      <td>347.5</td>\n",
       "      <td>17.103805</td>\n",
       "      <td>NaN</td>\n",
       "    </tr>\n",
       "    <tr>\n",
       "      <th>499</th>\n",
       "      <td>72713594623</td>\n",
       "      <td>43.96387</td>\n",
       "      <td>-69.71139</td>\n",
       "      <td>16.2</td>\n",
       "      <td>9.046271</td>\n",
       "      <td>NaN</td>\n",
       "    </tr>\n",
       "  </tbody>\n",
       "</table>\n",
       "<p>500 rows × 6 columns</p>\n",
       "</div>"
      ],
      "text/plain": [
       "         station  latitute  longitude  elevation       2021      2020\n",
       "0    72657594960  45.06222  -93.35107      263.4   9.292998       NaN\n",
       "1    72408013739  39.87326  -75.22681        2.1  14.528311       NaN\n",
       "2    72365823090  36.74354 -108.22931     1676.2  12.678843       NaN\n",
       "3    72210703056  32.67528 -102.65444     1010.4  16.975580       NaN\n",
       "4    74486514719  40.85055  -72.61928       13.1  11.480518       NaN\n",
       "..           ...       ...        ...        ...        ...       ...\n",
       "495  91221041419  14.17170  145.24280      179.2  27.673212       NaN\n",
       "496  17085099999  40.65000   35.85000      412.0        NaN  16.64071\n",
       "497  72456513920  38.94144  -95.65125      315.1  13.938204       NaN\n",
       "498  99999953151  33.43920 -117.19040      347.5  17.103805       NaN\n",
       "499  72713594623  43.96387  -69.71139       16.2   9.046271       NaN\n",
       "\n",
       "[500 rows x 6 columns]"
      ]
     },
     "execution_count": 5,
     "metadata": {},
     "output_type": "execute_result"
    }
   ],
   "source": [
    "new_df\n",
    "# save to ./temperature_data.csv\n",
    "# new_df.to_csv(\"temperature_data.csv\",index=False)"
   ]
  }
 ],
 "metadata": {
  "kernelspec": {
   "display_name": "base",
   "language": "python",
   "name": "python3"
  },
  "language_info": {
   "codemirror_mode": {
    "name": "ipython",
    "version": 3
   },
   "file_extension": ".py",
   "mimetype": "text/x-python",
   "name": "python",
   "nbconvert_exporter": "python",
   "pygments_lexer": "ipython3",
   "version": "3.11.4"
  }
 },
 "nbformat": 4,
 "nbformat_minor": 2
}
