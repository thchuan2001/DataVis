{
 "cells": [
  {
   "cell_type": "code",
   "execution_count": 1,
   "metadata": {},
   "outputs": [],
   "source": [
    "import json\n",
    "\n",
    "with open(\"/Users/toinf2/Documents/HomeWork/DataVis/Data/world.geojson\", \"rb\") as f:\n",
    "    world_file = json.load(f)\n"
   ]
  },
  {
   "cell_type": "code",
   "execution_count": 66,
   "metadata": {},
   "outputs": [],
   "source": [
    "from shapely.geometry import Polygon, MultiPolygon\n",
    "centoroid_area_world = {}\n",
    "for item in world_file['features']:\n",
    "    new_list = []\n",
    "    for i in item['geometry']['coordinates']:\n",
    "        for j in i:\n",
    "            new_list.append(j)\n",
    "    shapely_polygons = [Polygon(p) for p in new_list]\n",
    "    max_polygon = max(shapely_polygons, key=lambda p: p.area)\n",
    "    centroid = max_polygon.centroid\n",
    "    area = max_polygon.area\n",
    "    centoroid_area_world[item['properties']['name']] = {'point': (centroid.x, centroid.y), 'area': area}\n",
    "\n",
    "with open(\"centoroid_area_world.json\", \"w\") as f:\n",
    "    json.dump(centoroid_area_world, f, indent=4)\n"
   ]
  },
  {
   "cell_type": "code",
   "execution_count": 102,
   "metadata": {},
   "outputs": [],
   "source": [
    "import csv\n",
    "with open(\"/Users/toinf2/Documents/HomeWork/DataVis/Data/Energy/Coal.csv\", \"r\") as f:\n",
    "    coal = list(csv.reader(f))[5:]\n",
    "with open(\"/Users/toinf2/Documents/HomeWork/DataVis/Data/Energy/Oil.csv\", \"r\") as f:\n",
    "    oil = list(csv.reader(f))[5:]\n",
    "with open(\"/Users/toinf2/Documents/HomeWork/DataVis/Data/Energy/nuclear.csv\", \"r\") as f:\n",
    "    nuclear = list(csv.reader(f))[5:]"
   ]
  },
  {
   "cell_type": "code",
   "execution_count": null,
   "metadata": {},
   "outputs": [],
   "source": [
    "nuclear_for_line = [['country', 'year', 'num']]\n",
    "out_country = []\n",
    "for item in nuclear:\n",
    "    name = item[0]\n",
    "    item = item[4:]\n",
    "    cnt = 0\n",
    "    for year, num in enumerate(item):\n",
    "        if num == '':\n",
    "            cnt=1\n",
    "            continue\n",
    "            \n",
    "        num = float(num)\n",
    "        nuclear_for_line.append([name, year+1960, num])\n",
    "    if cnt == 0: out_country.append(name)\n",
    "print(out_country)\n",
    "with open('nuclear_for_line.json', \"w\") as f:\n",
    "    json.dump(nuclear_for_line, f)"
   ]
  },
  {
   "cell_type": "code",
   "execution_count": null,
   "metadata": {},
   "outputs": [],
   "source": [
    "oil_for_line = [['country', 'year', 'num']]\n",
    "out_country = []\n",
    "for item in oil:\n",
    "    name = item[0]\n",
    "    item = item[4:]\n",
    "    cnt = 0\n",
    "    for year, num in enumerate(item):\n",
    "        if num == '':\n",
    "            cnt=1\n",
    "            continue\n",
    "            \n",
    "        num = float(num)\n",
    "        oil_for_line.append([name, year+1960, num])\n",
    "    if cnt == 0: out_country.append(name)\n",
    "print(out_country)\n",
    "with open('nuclear_for_line.json', \"w\") as f:\n",
    "    json.dump(oil_for_line, f)"
   ]
  },
  {
   "cell_type": "code",
   "execution_count": 108,
   "metadata": {},
   "outputs": [
    {
     "name": "stdout",
     "output_type": "stream",
     "text": [
      "[]\n"
     ]
    }
   ],
   "source": [
    "oil_for_line = [['country', 'year', 'num']]\n",
    "out_country = []\n",
    "for item in oil:\n",
    "    name = item[0]\n",
    "    item = item[4:]\n",
    "    cnt = 0\n",
    "    for year, num in enumerate(item):\n",
    "        if num == '':\n",
    "            cnt=1\n",
    "            continue\n",
    "            \n",
    "        num = float(num)\n",
    "        oil_for_line.append([name, year+1960, num])\n",
    "    if cnt == 0: out_country.append(name)\n",
    "print(out_country)\n",
    "with open('oil_for_line.json', \"w\") as f:\n",
    "    json.dump(oil_for_line, f)"
   ]
  },
  {
   "cell_type": "code",
   "execution_count": 107,
   "metadata": {},
   "outputs": [
    {
     "name": "stdout",
     "output_type": "stream",
     "text": [
      "[]\n"
     ]
    }
   ],
   "source": [
    "coal_for_line = [['country', 'year', 'num']]\n",
    "out_country = []\n",
    "for item in coal:\n",
    "    name = item[0]\n",
    "    item = item[4:]\n",
    "    cnt = 0\n",
    "    for year, num in enumerate(item):\n",
    "        if num == '':\n",
    "            cnt=1\n",
    "            continue\n",
    "            \n",
    "        num = float(num)\n",
    "        coal_for_line.append([name, year+1960, num])\n",
    "    if cnt == 0: out_country.append(name)\n",
    "print(out_country)\n",
    "with open('coal_for_line.json', \"w\") as f:\n",
    "    json.dump(coal_for_line, f)"
   ]
  },
  {
   "cell_type": "code",
   "execution_count": 89,
   "metadata": {},
   "outputs": [
    {
     "data": {
      "text/plain": [
       "['Africa Western and Central',\n",
       " 'AFW',\n",
       " 'Electricity production from coal sources (% of total)',\n",
       " 'EG.ELC.COAL.ZS',\n",
       " '',\n",
       " '',\n",
       " '',\n",
       " '',\n",
       " '',\n",
       " '',\n",
       " '',\n",
       " '',\n",
       " '',\n",
       " '',\n",
       " '',\n",
       " '0',\n",
       " '0.0109109560311327',\n",
       " '0',\n",
       " '0.496015126981383',\n",
       " '0.424213190522481',\n",
       " '0.415196625686333',\n",
       " '0.377526805947214',\n",
       " '0',\n",
       " '0',\n",
       " '0',\n",
       " '0',\n",
       " '0',\n",
       " '0.0208281831007985',\n",
       " '0.037727858546465',\n",
       " '0.0182902907691933',\n",
       " '0.0248416512273563',\n",
       " '0.0235331063534943',\n",
       " '0.0416321248339284',\n",
       " '0.0388853953265628',\n",
       " '0.0439372407824414',\n",
       " '0.0422080185115135',\n",
       " '0.0436405904212875',\n",
       " '0',\n",
       " '0',\n",
       " '0',\n",
       " '0',\n",
       " '0',\n",
       " '0',\n",
       " '0',\n",
       " '0.358191418209784',\n",
       " '0.337248555589779',\n",
       " '0.308242693177095',\n",
       " '0.338242021484093',\n",
       " '0.308601201389011',\n",
       " '0.315286454908922',\n",
       " '0.316650588572767',\n",
       " '0.295584356293791',\n",
       " '0.334304582144652',\n",
       " '0.366478323266743',\n",
       " '0.333267691685614',\n",
       " '0.400330768055593',\n",
       " '0.378718060745261',\n",
       " '0.337532287478308',\n",
       " '0.3363529732492',\n",
       " '0.296089575980402',\n",
       " '',\n",
       " '',\n",
       " '',\n",
       " '',\n",
       " '',\n",
       " '',\n",
       " '',\n",
       " '',\n",
       " '']"
      ]
     },
     "execution_count": 89,
     "metadata": {},
     "output_type": "execute_result"
    }
   ],
   "source": [
    "coal[3]"
   ]
  },
  {
   "cell_type": "code",
   "execution_count": 100,
   "metadata": {},
   "outputs": [],
   "source": [
    "\n",
    "energy = {i: {} for i in range(1960, 2016)}\n",
    "\n",
    "for item in coal:\n",
    "    name = item[0]\n",
    "    item = item[4:]\n",
    "    for year, num in enumerate(item):\n",
    "        if num == '': continue\n",
    "        num = float(num)\n",
    "        if name not in energy[1960+year].keys(): \n",
    "            energy[1960+year][name] = {}\n",
    "        energy[1960+year][name]['Coal'] = num\n",
    "for item in oil:\n",
    "    name = item[0]\n",
    "    item = item[4:]\n",
    "    for year, num in enumerate(item):\n",
    "        if num == '': continue\n",
    "        num = float(num)\n",
    "        if name not in energy[1960+year].keys(): \n",
    "            energy[1960+year][name] = {}\n",
    "        energy[1960+year][name]['Oil'] = num\n",
    "for item in nuclear:\n",
    "    name = item[0]\n",
    "    item = item[4:]\n",
    "    for year, num in enumerate(item):\n",
    "        if num == '': continue\n",
    "        num = float(num)\n",
    "        if name not in energy[1960+year].keys(): \n",
    "            energy[1960+year][name] = {}\n",
    "        energy[1960+year][name]['Nuclear'] = num\n",
    "        energy[1960+year][name]['Others'] = 100 - energy[1960+year][name]['Coal'] - \\\n",
    "            energy[1960+year][name]['Oil'] - energy[1960+year][name]['Nuclear']\n",
    "        try:\n",
    "            energy[1960+year][name]['Pos'] = centoroid_area_world[name]\n",
    "        except:\n",
    "            pass"
   ]
  },
  {
   "cell_type": "code",
   "execution_count": 76,
   "metadata": {},
   "outputs": [],
   "source": [
    "with open(\"energy.json\", \"w\") as f:\n",
    "    json.dump(energy, f, indent=4)"
   ]
  },
  {
   "cell_type": "code",
   "execution_count": 101,
   "metadata": {},
   "outputs": [],
   "source": [
    "for item in coal:\n",
    "    name = item[0]\n",
    "    item = item[4:]\n",
    "    for year, num in enumerate(item):\n",
    "        if num == '' or name not in energy[1960+year].keys(): continue\n",
    "        if not 'Pos' in energy[1960+year][name].keys(): del energy[1960+year][name]\n",
    "for item in oil:\n",
    "    name = item[0]\n",
    "    item = item[4:]\n",
    "    for year, num in enumerate(item):\n",
    "        if num == '' or name not in energy[1960+year].keys(): continue\n",
    "        if not 'Pos' in energy[1960+year][name].keys(): del energy[1960+year][name]\n",
    "for item in nuclear:\n",
    "    name = item[0]\n",
    "    item = item[4:]\n",
    "    for year, num in enumerate(item):\n",
    "        if num == '' or name not in energy[1960+year].keys(): continue\n",
    "        if not 'Pos' in energy[1960+year][name].keys(): del energy[1960+year][name]\n",
    "\n",
    "sorted_data = {key: dict(sorted(value.items())) for key, value in energy.items()}\n",
    "\n",
    "with open(\"energy.json\", \"w\") as f:\n",
    "    json.dump(sorted_data, f, indent=4)"
   ]
  },
  {
   "cell_type": "code",
   "execution_count": null,
   "metadata": {},
   "outputs": [],
   "source": []
  }
 ],
 "metadata": {
  "kernelspec": {
   "display_name": "base",
   "language": "python",
   "name": "python3"
  },
  "language_info": {
   "codemirror_mode": {
    "name": "ipython",
    "version": 3
   },
   "file_extension": ".py",
   "mimetype": "text/x-python",
   "name": "python",
   "nbconvert_exporter": "python",
   "pygments_lexer": "ipython3",
   "version": "3.10.9"
  }
 },
 "nbformat": 4,
 "nbformat_minor": 2
}
