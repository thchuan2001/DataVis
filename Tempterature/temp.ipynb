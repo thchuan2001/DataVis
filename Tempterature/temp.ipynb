{
 "cells": [
  {
   "cell_type": "code",
   "execution_count": 57,
   "metadata": {},
   "outputs": [
    {
     "name": "stdout",
     "output_type": "stream",
     "text": [
      "12299\n"
     ]
    },
    {
     "name": "stderr",
     "output_type": "stream",
     "text": [
      "100%|██████████| 12299/12299 [00:11<00:00, 1076.47it/s]"
     ]
    },
    {
     "name": "stdout",
     "output_type": "stream",
     "text": [
      "9008\n"
     ]
    },
    {
     "name": "stderr",
     "output_type": "stream",
     "text": [
      "\n"
     ]
    }
   ],
   "source": [
    "import glob\n",
    "import pandas as pd\n",
    "from tqdm import tqdm\n",
    "import numpy as np\n",
    "def parse_csv(year,site):\n",
    "    try:\n",
    "        data=open(site).readlines()\n",
    "        data=data[1:]\n",
    "        line=data[0][1:-1].strip().split(\"\\\",\\\"\")\n",
    "        station=line[0]\n",
    "        latitute=float(line[2])\n",
    "        longitude=float(line[3])\n",
    "        elevation=float(line[4])\n",
    "\n",
    "        ret=[]\n",
    "        month_count=[0]*13\n",
    "        for line in data:\n",
    "            line=line[1:-1].strip().split(\"\\\",\\\"\")\n",
    "            ret.append(\n",
    "            {\n",
    "                'month':int(line[1].split(\"-\")[1]),\n",
    "                'year':int(line[1].split(\"-\")[0]),\n",
    "                'temperature':float(line[6])\n",
    "            })\n",
    "        \n",
    "        for item in ret:\n",
    "            month_count[item['month']]+=1\n",
    "        \n",
    "        month_count=month_count[1:]\n",
    "        if max(month_count)-min(month_count)<5:\n",
    "            all_temp=[]\n",
    "            for item in ret:\n",
    "                all_temp.append(item['temperature'])\n",
    "            all_temp=np.array(all_temp)\n",
    "            temp_mean=np.mean(all_temp)\n",
    "            temp_mean=(temp_mean-32)*5/9\n",
    "            return {\n",
    "                'station':station,\n",
    "                'latitute':latitute,\n",
    "                'longitude':longitude,\n",
    "                'elevation':elevation,\n",
    "                year:temp_mean,\n",
    "            }\n",
    "        else:\n",
    "            return None\n",
    "    except:\n",
    "        return None\n",
    "\n",
    "data_path =\"../../Temperature\"\n",
    "years=[str(x) for x in range (2020,2021)]\n",
    "res=[]\n",
    "output_df=pd.DataFrame()\n",
    "for year in years:\n",
    "    sites=glob.glob(data_path+\"/\"+year+\"/*.csv\")\n",
    "    print(len(sites))\n",
    "    # read file\n",
    "    for site in tqdm(sites):\n",
    "        data_list=parse_csv(year,site)\n",
    "        if data_list is None:\n",
    "            continue\n",
    "        res.append(data_list)\n",
    "    print(len(res))\n",
    "    new_df=pd.DataFrame(res)\n"
   ]
  },
  {
   "cell_type": "code",
   "execution_count": 60,
   "metadata": {},
   "outputs": [],
   "source": [
    "new_df\n",
    "# save to ./temperature_data.csv\n",
    "new_df.to_csv(\"temperature_data.csv\",index=False)"
   ]
  }
 ],
 "metadata": {
  "kernelspec": {
   "display_name": "base",
   "language": "python",
   "name": "python3"
  },
  "language_info": {
   "codemirror_mode": {
    "name": "ipython",
    "version": 3
   },
   "file_extension": ".py",
   "mimetype": "text/x-python",
   "name": "python",
   "nbconvert_exporter": "python",
   "pygments_lexer": "ipython3",
   "version": "3.11.4"
  }
 },
 "nbformat": 4,
 "nbformat_minor": 2
}
